{
 "cells": [
  {
   "cell_type": "markdown",
   "id": "19a3865a",
   "metadata": {},
   "source": [
    "# Importing the Libraries"
   ]
  },
  {
   "cell_type": "code",
   "execution_count": 1,
   "id": "8709c226",
   "metadata": {},
   "outputs": [],
   "source": [
    "import pandas as pd\n",
    "import numpy as np\n",
    "import seaborn as sns"
   ]
  },
  {
   "cell_type": "markdown",
   "id": "97132489",
   "metadata": {},
   "source": [
    "# Importing the Dataset using pandas"
   ]
  },
  {
   "cell_type": "code",
   "execution_count": 2,
   "id": "f0fb3b86",
   "metadata": {},
   "outputs": [],
   "source": [
    "# importing the dataset\n",
    "\n",
    "car_sales = pd.read_csv(\"Data/car_purchasing.csv\", encoding = \"latin1\")"
   ]
  },
  {
   "cell_type": "markdown",
   "id": "08d64451",
   "metadata": {},
   "source": [
    "# Getting Information about the dataset"
   ]
  },
  {
   "cell_type": "code",
   "execution_count": 3,
   "id": "4d9be1b5",
   "metadata": {},
   "outputs": [
    {
     "data": {
      "text/html": [
       "<div>\n",
       "<style scoped>\n",
       "    .dataframe tbody tr th:only-of-type {\n",
       "        vertical-align: middle;\n",
       "    }\n",
       "\n",
       "    .dataframe tbody tr th {\n",
       "        vertical-align: top;\n",
       "    }\n",
       "\n",
       "    .dataframe thead th {\n",
       "        text-align: right;\n",
       "    }\n",
       "</style>\n",
       "<table border=\"1\" class=\"dataframe\">\n",
       "  <thead>\n",
       "    <tr style=\"text-align: right;\">\n",
       "      <th></th>\n",
       "      <th>customer name</th>\n",
       "      <th>customer e-mail</th>\n",
       "      <th>country</th>\n",
       "      <th>gender</th>\n",
       "      <th>age</th>\n",
       "      <th>annual Salary</th>\n",
       "      <th>credit card debt</th>\n",
       "      <th>net worth</th>\n",
       "      <th>car purchase amount</th>\n",
       "    </tr>\n",
       "  </thead>\n",
       "  <tbody>\n",
       "    <tr>\n",
       "      <th>0</th>\n",
       "      <td>Martina Avila</td>\n",
       "      <td>cubilia.Curae.Phasellus@quisaccumsanconvallis.edu</td>\n",
       "      <td>Bulgaria</td>\n",
       "      <td>0</td>\n",
       "      <td>41.851720</td>\n",
       "      <td>62812.09301</td>\n",
       "      <td>11609.380910</td>\n",
       "      <td>238961.2505</td>\n",
       "      <td>35321.45877</td>\n",
       "    </tr>\n",
       "    <tr>\n",
       "      <th>1</th>\n",
       "      <td>Harlan Barnes</td>\n",
       "      <td>eu.dolor@diam.co.uk</td>\n",
       "      <td>Belize</td>\n",
       "      <td>0</td>\n",
       "      <td>40.870623</td>\n",
       "      <td>66646.89292</td>\n",
       "      <td>9572.957136</td>\n",
       "      <td>530973.9078</td>\n",
       "      <td>45115.52566</td>\n",
       "    </tr>\n",
       "    <tr>\n",
       "      <th>2</th>\n",
       "      <td>Naomi Rodriquez</td>\n",
       "      <td>vulputate.mauris.sagittis@ametconsectetueradip...</td>\n",
       "      <td>Algeria</td>\n",
       "      <td>1</td>\n",
       "      <td>43.152897</td>\n",
       "      <td>53798.55112</td>\n",
       "      <td>11160.355060</td>\n",
       "      <td>638467.1773</td>\n",
       "      <td>42925.70921</td>\n",
       "    </tr>\n",
       "    <tr>\n",
       "      <th>3</th>\n",
       "      <td>Jade Cunningham</td>\n",
       "      <td>malesuada@dignissim.com</td>\n",
       "      <td>Cook Islands</td>\n",
       "      <td>1</td>\n",
       "      <td>58.271369</td>\n",
       "      <td>79370.03798</td>\n",
       "      <td>14426.164850</td>\n",
       "      <td>548599.0524</td>\n",
       "      <td>67422.36313</td>\n",
       "    </tr>\n",
       "    <tr>\n",
       "      <th>4</th>\n",
       "      <td>Cedric Leach</td>\n",
       "      <td>felis.ullamcorper.viverra@egetmollislectus.net</td>\n",
       "      <td>Brazil</td>\n",
       "      <td>1</td>\n",
       "      <td>57.313749</td>\n",
       "      <td>59729.15130</td>\n",
       "      <td>5358.712177</td>\n",
       "      <td>560304.0671</td>\n",
       "      <td>55915.46248</td>\n",
       "    </tr>\n",
       "    <tr>\n",
       "      <th>5</th>\n",
       "      <td>Carla Hester</td>\n",
       "      <td>mi@Aliquamerat.edu</td>\n",
       "      <td>Liberia</td>\n",
       "      <td>1</td>\n",
       "      <td>56.824893</td>\n",
       "      <td>68499.85162</td>\n",
       "      <td>14179.472440</td>\n",
       "      <td>428485.3604</td>\n",
       "      <td>56611.99784</td>\n",
       "    </tr>\n",
       "    <tr>\n",
       "      <th>6</th>\n",
       "      <td>Griffin Rivera</td>\n",
       "      <td>vehicula@at.co.uk</td>\n",
       "      <td>Syria</td>\n",
       "      <td>1</td>\n",
       "      <td>46.607315</td>\n",
       "      <td>39814.52200</td>\n",
       "      <td>5958.460188</td>\n",
       "      <td>326373.1812</td>\n",
       "      <td>28925.70549</td>\n",
       "    </tr>\n",
       "    <tr>\n",
       "      <th>7</th>\n",
       "      <td>Orli Casey</td>\n",
       "      <td>nunc.est.mollis@Suspendissetristiqueneque.co.uk</td>\n",
       "      <td>Czech Republic</td>\n",
       "      <td>1</td>\n",
       "      <td>50.193016</td>\n",
       "      <td>51752.23445</td>\n",
       "      <td>10985.696560</td>\n",
       "      <td>629312.4041</td>\n",
       "      <td>47434.98265</td>\n",
       "    </tr>\n",
       "    <tr>\n",
       "      <th>8</th>\n",
       "      <td>Marny Obrien</td>\n",
       "      <td>Phasellus@sedsemegestas.org</td>\n",
       "      <td>Armenia</td>\n",
       "      <td>0</td>\n",
       "      <td>46.584745</td>\n",
       "      <td>58139.25910</td>\n",
       "      <td>3440.823799</td>\n",
       "      <td>630059.0274</td>\n",
       "      <td>48013.61410</td>\n",
       "    </tr>\n",
       "    <tr>\n",
       "      <th>9</th>\n",
       "      <td>Rhonda Chavez</td>\n",
       "      <td>nec@nuncest.com</td>\n",
       "      <td>Somalia</td>\n",
       "      <td>1</td>\n",
       "      <td>43.323782</td>\n",
       "      <td>53457.10132</td>\n",
       "      <td>12884.078680</td>\n",
       "      <td>476643.3544</td>\n",
       "      <td>38189.50601</td>\n",
       "    </tr>\n",
       "  </tbody>\n",
       "</table>\n",
       "</div>"
      ],
      "text/plain": [
       "     customer name                                    customer e-mail  \\\n",
       "0    Martina Avila  cubilia.Curae.Phasellus@quisaccumsanconvallis.edu   \n",
       "1    Harlan Barnes                                eu.dolor@diam.co.uk   \n",
       "2  Naomi Rodriquez  vulputate.mauris.sagittis@ametconsectetueradip...   \n",
       "3  Jade Cunningham                            malesuada@dignissim.com   \n",
       "4     Cedric Leach     felis.ullamcorper.viverra@egetmollislectus.net   \n",
       "5     Carla Hester                                 mi@Aliquamerat.edu   \n",
       "6   Griffin Rivera                                  vehicula@at.co.uk   \n",
       "7       Orli Casey    nunc.est.mollis@Suspendissetristiqueneque.co.uk   \n",
       "8     Marny Obrien                        Phasellus@sedsemegestas.org   \n",
       "9    Rhonda Chavez                                    nec@nuncest.com   \n",
       "\n",
       "          country  gender        age  annual Salary  credit card debt  \\\n",
       "0        Bulgaria       0  41.851720    62812.09301      11609.380910   \n",
       "1          Belize       0  40.870623    66646.89292       9572.957136   \n",
       "2         Algeria       1  43.152897    53798.55112      11160.355060   \n",
       "3    Cook Islands       1  58.271369    79370.03798      14426.164850   \n",
       "4          Brazil       1  57.313749    59729.15130       5358.712177   \n",
       "5         Liberia       1  56.824893    68499.85162      14179.472440   \n",
       "6           Syria       1  46.607315    39814.52200       5958.460188   \n",
       "7  Czech Republic       1  50.193016    51752.23445      10985.696560   \n",
       "8         Armenia       0  46.584745    58139.25910       3440.823799   \n",
       "9         Somalia       1  43.323782    53457.10132      12884.078680   \n",
       "\n",
       "     net worth  car purchase amount  \n",
       "0  238961.2505          35321.45877  \n",
       "1  530973.9078          45115.52566  \n",
       "2  638467.1773          42925.70921  \n",
       "3  548599.0524          67422.36313  \n",
       "4  560304.0671          55915.46248  \n",
       "5  428485.3604          56611.99784  \n",
       "6  326373.1812          28925.70549  \n",
       "7  629312.4041          47434.98265  \n",
       "8  630059.0274          48013.61410  \n",
       "9  476643.3544          38189.50601  "
      ]
     },
     "execution_count": 3,
     "metadata": {},
     "output_type": "execute_result"
    }
   ],
   "source": [
    "car_sales.head(10)"
   ]
  },
  {
   "cell_type": "code",
   "execution_count": 4,
   "id": "5cc8c523",
   "metadata": {},
   "outputs": [
    {
     "data": {
      "text/html": [
       "<div>\n",
       "<style scoped>\n",
       "    .dataframe tbody tr th:only-of-type {\n",
       "        vertical-align: middle;\n",
       "    }\n",
       "\n",
       "    .dataframe tbody tr th {\n",
       "        vertical-align: top;\n",
       "    }\n",
       "\n",
       "    .dataframe thead th {\n",
       "        text-align: right;\n",
       "    }\n",
       "</style>\n",
       "<table border=\"1\" class=\"dataframe\">\n",
       "  <thead>\n",
       "    <tr style=\"text-align: right;\">\n",
       "      <th></th>\n",
       "      <th>customer name</th>\n",
       "      <th>customer e-mail</th>\n",
       "      <th>country</th>\n",
       "      <th>gender</th>\n",
       "      <th>age</th>\n",
       "      <th>annual Salary</th>\n",
       "      <th>credit card debt</th>\n",
       "      <th>net worth</th>\n",
       "      <th>car purchase amount</th>\n",
       "    </tr>\n",
       "  </thead>\n",
       "  <tbody>\n",
       "    <tr>\n",
       "      <th>490</th>\n",
       "      <td>Jonah</td>\n",
       "      <td>augue@risusNuncac.co.uk</td>\n",
       "      <td>Myanmar</td>\n",
       "      <td>1</td>\n",
       "      <td>45.752698</td>\n",
       "      <td>63722.00164</td>\n",
       "      <td>10711.444720</td>\n",
       "      <td>316128.4002</td>\n",
       "      <td>41352.47071</td>\n",
       "    </tr>\n",
       "    <tr>\n",
       "      <th>491</th>\n",
       "      <td>Merrill</td>\n",
       "      <td>dolor.sit@turpisIn.com</td>\n",
       "      <td>Egypt</td>\n",
       "      <td>1</td>\n",
       "      <td>50.197205</td>\n",
       "      <td>78518.21527</td>\n",
       "      <td>10072.482980</td>\n",
       "      <td>294506.0844</td>\n",
       "      <td>52785.16947</td>\n",
       "    </tr>\n",
       "    <tr>\n",
       "      <th>492</th>\n",
       "      <td>Nolan</td>\n",
       "      <td>Donec.at@neccursus.co.uk</td>\n",
       "      <td>Latvia</td>\n",
       "      <td>0</td>\n",
       "      <td>55.087720</td>\n",
       "      <td>72424.80112</td>\n",
       "      <td>9831.184792</td>\n",
       "      <td>523680.7699</td>\n",
       "      <td>60117.67886</td>\n",
       "    </tr>\n",
       "    <tr>\n",
       "      <th>493</th>\n",
       "      <td>Winter</td>\n",
       "      <td>egestas.urna.justo@maurissagittis.edu</td>\n",
       "      <td>Wallis and Futuna</td>\n",
       "      <td>0</td>\n",
       "      <td>42.900187</td>\n",
       "      <td>77665.17195</td>\n",
       "      <td>13308.879320</td>\n",
       "      <td>349588.5608</td>\n",
       "      <td>47760.66427</td>\n",
       "    </tr>\n",
       "    <tr>\n",
       "      <th>494</th>\n",
       "      <td>Rigel</td>\n",
       "      <td>egestas.blandit.Nam@semvitaealiquam.com</td>\n",
       "      <td>Sao Tome and Principe</td>\n",
       "      <td>0</td>\n",
       "      <td>51.767418</td>\n",
       "      <td>77345.61633</td>\n",
       "      <td>6736.751680</td>\n",
       "      <td>665099.1390</td>\n",
       "      <td>64188.26862</td>\n",
       "    </tr>\n",
       "    <tr>\n",
       "      <th>495</th>\n",
       "      <td>Walter</td>\n",
       "      <td>ligula@Cumsociis.ca</td>\n",
       "      <td>Nepal</td>\n",
       "      <td>0</td>\n",
       "      <td>41.462515</td>\n",
       "      <td>71942.40291</td>\n",
       "      <td>6995.902524</td>\n",
       "      <td>541670.1016</td>\n",
       "      <td>48901.44342</td>\n",
       "    </tr>\n",
       "    <tr>\n",
       "      <th>496</th>\n",
       "      <td>Vanna</td>\n",
       "      <td>Cum.sociis.natoque@Sedmolestie.edu</td>\n",
       "      <td>Zimbabwe</td>\n",
       "      <td>1</td>\n",
       "      <td>37.642000</td>\n",
       "      <td>56039.49793</td>\n",
       "      <td>12301.456790</td>\n",
       "      <td>360419.0988</td>\n",
       "      <td>31491.41457</td>\n",
       "    </tr>\n",
       "    <tr>\n",
       "      <th>497</th>\n",
       "      <td>Pearl</td>\n",
       "      <td>penatibus.et@massanonante.com</td>\n",
       "      <td>Philippines</td>\n",
       "      <td>1</td>\n",
       "      <td>53.943497</td>\n",
       "      <td>68888.77805</td>\n",
       "      <td>10611.606860</td>\n",
       "      <td>764531.3203</td>\n",
       "      <td>64147.28888</td>\n",
       "    </tr>\n",
       "    <tr>\n",
       "      <th>498</th>\n",
       "      <td>Nell</td>\n",
       "      <td>Quisque.varius@arcuVivamussit.net</td>\n",
       "      <td>Botswana</td>\n",
       "      <td>1</td>\n",
       "      <td>59.160509</td>\n",
       "      <td>49811.99062</td>\n",
       "      <td>14013.034510</td>\n",
       "      <td>337826.6382</td>\n",
       "      <td>45442.15353</td>\n",
       "    </tr>\n",
       "    <tr>\n",
       "      <th>499</th>\n",
       "      <td>Marla</td>\n",
       "      <td>Camaron.marla@hotmail.com</td>\n",
       "      <td>marlal</td>\n",
       "      <td>1</td>\n",
       "      <td>46.731152</td>\n",
       "      <td>61370.67766</td>\n",
       "      <td>9391.341628</td>\n",
       "      <td>462946.4924</td>\n",
       "      <td>45107.22566</td>\n",
       "    </tr>\n",
       "  </tbody>\n",
       "</table>\n",
       "</div>"
      ],
      "text/plain": [
       "    customer name                          customer e-mail  \\\n",
       "490         Jonah                  augue@risusNuncac.co.uk   \n",
       "491       Merrill                   dolor.sit@turpisIn.com   \n",
       "492         Nolan                 Donec.at@neccursus.co.uk   \n",
       "493        Winter    egestas.urna.justo@maurissagittis.edu   \n",
       "494         Rigel  egestas.blandit.Nam@semvitaealiquam.com   \n",
       "495        Walter                      ligula@Cumsociis.ca   \n",
       "496         Vanna       Cum.sociis.natoque@Sedmolestie.edu   \n",
       "497         Pearl            penatibus.et@massanonante.com   \n",
       "498          Nell        Quisque.varius@arcuVivamussit.net   \n",
       "499         Marla                Camaron.marla@hotmail.com   \n",
       "\n",
       "                   country  gender        age  annual Salary  \\\n",
       "490                Myanmar       1  45.752698    63722.00164   \n",
       "491                  Egypt       1  50.197205    78518.21527   \n",
       "492                 Latvia       0  55.087720    72424.80112   \n",
       "493      Wallis and Futuna       0  42.900187    77665.17195   \n",
       "494  Sao Tome and Principe       0  51.767418    77345.61633   \n",
       "495                  Nepal       0  41.462515    71942.40291   \n",
       "496               Zimbabwe       1  37.642000    56039.49793   \n",
       "497            Philippines       1  53.943497    68888.77805   \n",
       "498               Botswana       1  59.160509    49811.99062   \n",
       "499                 marlal       1  46.731152    61370.67766   \n",
       "\n",
       "     credit card debt    net worth  car purchase amount  \n",
       "490      10711.444720  316128.4002          41352.47071  \n",
       "491      10072.482980  294506.0844          52785.16947  \n",
       "492       9831.184792  523680.7699          60117.67886  \n",
       "493      13308.879320  349588.5608          47760.66427  \n",
       "494       6736.751680  665099.1390          64188.26862  \n",
       "495       6995.902524  541670.1016          48901.44342  \n",
       "496      12301.456790  360419.0988          31491.41457  \n",
       "497      10611.606860  764531.3203          64147.28888  \n",
       "498      14013.034510  337826.6382          45442.15353  \n",
       "499       9391.341628  462946.4924          45107.22566  "
      ]
     },
     "execution_count": 4,
     "metadata": {},
     "output_type": "execute_result"
    }
   ],
   "source": [
    "car_sales.tail(10)"
   ]
  },
  {
   "cell_type": "code",
   "execution_count": 5,
   "id": "f03aab0e",
   "metadata": {},
   "outputs": [
    {
     "name": "stdout",
     "output_type": "stream",
     "text": [
      "<class 'pandas.core.frame.DataFrame'>\n",
      "RangeIndex: 500 entries, 0 to 499\n",
      "Data columns (total 9 columns):\n",
      " #   Column               Non-Null Count  Dtype  \n",
      "---  ------               --------------  -----  \n",
      " 0   customer name        500 non-null    object \n",
      " 1   customer e-mail      500 non-null    object \n",
      " 2   country              500 non-null    object \n",
      " 3   gender               500 non-null    int64  \n",
      " 4   age                  500 non-null    float64\n",
      " 5   annual Salary        500 non-null    float64\n",
      " 6   credit card debt     500 non-null    float64\n",
      " 7   net worth            500 non-null    float64\n",
      " 8   car purchase amount  500 non-null    float64\n",
      "dtypes: float64(5), int64(1), object(3)\n",
      "memory usage: 35.3+ KB\n"
     ]
    }
   ],
   "source": [
    "car_sales.info()"
   ]
  },
  {
   "cell_type": "code",
   "execution_count": 6,
   "id": "0087adfa",
   "metadata": {},
   "outputs": [
    {
     "name": "stdout",
     "output_type": "stream",
     "text": [
      "No. of rows:  500\n",
      "No. of columns:  9\n"
     ]
    }
   ],
   "source": [
    "print(\"No. of rows: \", car_sales.shape[0])\n",
    "print(\"No. of columns: \", car_sales.shape[1])"
   ]
  },
  {
   "cell_type": "markdown",
   "id": "d4604541",
   "metadata": {},
   "source": [
    "# Checking for null values"
   ]
  },
  {
   "cell_type": "code",
   "execution_count": 7,
   "id": "fd4c54c6",
   "metadata": {},
   "outputs": [
    {
     "data": {
      "text/plain": [
       "customer name          False\n",
       "customer e-mail        False\n",
       "country                False\n",
       "gender                 False\n",
       "age                    False\n",
       "annual Salary          False\n",
       "credit card debt       False\n",
       "net worth              False\n",
       "car purchase amount    False\n",
       "dtype: bool"
      ]
     },
     "execution_count": 7,
     "metadata": {},
     "output_type": "execute_result"
    }
   ],
   "source": [
    "car_sales.isna().any()"
   ]
  },
  {
   "cell_type": "code",
   "execution_count": 8,
   "id": "02d29236",
   "metadata": {},
   "outputs": [
    {
     "data": {
      "text/plain": [
       "<Axes: >"
      ]
     },
     "execution_count": 8,
     "metadata": {},
     "output_type": "execute_result"
    },
    {
     "data": {
      "image/png": "[encoded data removed]",
      "text/plain": [
       "<Figure size 640x480 with 2 Axes>"
      ]
     },
     "metadata": {},
     "output_type": "display_data"
    }
   ],
   "source": [
    "# visualizing the null values using seaborn\n",
    "\n",
    "sns.heatmap(car_sales.isna())"
   ]
  },
  {
   "cell_type": "markdown",
   "id": "012f55f3",
   "metadata": {},
   "source": [
    "## Checking for duplicated values"
   ]
  },
  {
   "cell_type": "code",
   "execution_count": 9,
   "id": "16c9044b",
   "metadata": {},
   "outputs": [
    {
     "data": {
      "text/plain": [
       "False"
      ]
     },
     "execution_count": 9,
     "metadata": {},
     "output_type": "execute_result"
    }
   ],
   "source": [
    "car_sales.duplicated().any()"
   ]
  },
  {
   "cell_type": "markdown",
   "id": "7a0bf06c",
   "metadata": {},
   "source": [
    "# Using the Ml model to predict the Car Purchase Amount"
   ]
  },
  {
   "cell_type": "markdown",
   "id": "2365fee6",
   "metadata": {},
   "source": [
    "## 1.) Splitting the data into X and Y"
   ]
  },
  {
   "cell_type": "code",
   "execution_count": 10,
   "id": "f54de28d",
   "metadata": {},
   "outputs": [],
   "source": [
    "X = car_sales.drop(\"customer name\", axis=1)\n",
    "X = X.drop(\"customer e-mail\", axis=1)\n",
    "Y = car_sales[\"car purchase amount\"]"
   ]
  },
  {
   "cell_type": "code",
   "execution_count": 11,
   "id": "6dac5d3a",
   "metadata": {},
   "outputs": [
    {
     "data": {
      "text/html": [
       "<div>\n",
       "<style scoped>\n",
       "    .dataframe tbody tr th:only-of-type {\n",
       "        vertical-align: middle;\n",
       "    }\n",
       "\n",
       "    .dataframe tbody tr th {\n",
       "        vertical-align: top;\n",
       "    }\n",
       "\n",
       "    .dataframe thead th {\n",
       "        text-align: right;\n",
       "    }\n",
       "</style>\n",
       "<table border=\"1\" class=\"dataframe\">\n",
       "  <thead>\n",
       "    <tr style=\"text-align: right;\">\n",
       "      <th></th>\n",
       "      <th>country</th>\n",
       "      <th>gender</th>\n",
       "      <th>age</th>\n",
       "      <th>annual Salary</th>\n",
       "      <th>credit card debt</th>\n",
       "      <th>net worth</th>\n",
       "      <th>car purchase amount</th>\n",
       "    </tr>\n",
       "  </thead>\n",
       "  <tbody>\n",
       "    <tr>\n",
       "      <th>0</th>\n",
       "      <td>Bulgaria</td>\n",
       "      <td>0</td>\n",
       "      <td>41.851720</td>\n",
       "      <td>62812.09301</td>\n",
       "      <td>11609.380910</td>\n",
       "      <td>238961.2505</td>\n",
       "      <td>35321.45877</td>\n",
       "    </tr>\n",
       "    <tr>\n",
       "      <th>1</th>\n",
       "      <td>Belize</td>\n",
       "      <td>0</td>\n",
       "      <td>40.870623</td>\n",
       "      <td>66646.89292</td>\n",
       "      <td>9572.957136</td>\n",
       "      <td>530973.9078</td>\n",
       "      <td>45115.52566</td>\n",
       "    </tr>\n",
       "    <tr>\n",
       "      <th>2</th>\n",
       "      <td>Algeria</td>\n",
       "      <td>1</td>\n",
       "      <td>43.152897</td>\n",
       "      <td>53798.55112</td>\n",
       "      <td>11160.355060</td>\n",
       "      <td>638467.1773</td>\n",
       "      <td>42925.70921</td>\n",
       "    </tr>\n",
       "    <tr>\n",
       "      <th>3</th>\n",
       "      <td>Cook Islands</td>\n",
       "      <td>1</td>\n",
       "      <td>58.271369</td>\n",
       "      <td>79370.03798</td>\n",
       "      <td>14426.164850</td>\n",
       "      <td>548599.0524</td>\n",
       "      <td>67422.36313</td>\n",
       "    </tr>\n",
       "    <tr>\n",
       "      <th>4</th>\n",
       "      <td>Brazil</td>\n",
       "      <td>1</td>\n",
       "      <td>57.313749</td>\n",
       "      <td>59729.15130</td>\n",
       "      <td>5358.712177</td>\n",
       "      <td>560304.0671</td>\n",
       "      <td>55915.46248</td>\n",
       "    </tr>\n",
       "    <tr>\n",
       "      <th>5</th>\n",
       "      <td>Liberia</td>\n",
       "      <td>1</td>\n",
       "      <td>56.824893</td>\n",
       "      <td>68499.85162</td>\n",
       "      <td>14179.472440</td>\n",
       "      <td>428485.3604</td>\n",
       "      <td>56611.99784</td>\n",
       "    </tr>\n",
       "    <tr>\n",
       "      <th>6</th>\n",
       "      <td>Syria</td>\n",
       "      <td>1</td>\n",
       "      <td>46.607315</td>\n",
       "      <td>39814.52200</td>\n",
       "      <td>5958.460188</td>\n",
       "      <td>326373.1812</td>\n",
       "      <td>28925.70549</td>\n",
       "    </tr>\n",
       "    <tr>\n",
       "      <th>7</th>\n",
       "      <td>Czech Republic</td>\n",
       "      <td>1</td>\n",
       "      <td>50.193016</td>\n",
       "      <td>51752.23445</td>\n",
       "      <td>10985.696560</td>\n",
       "      <td>629312.4041</td>\n",
       "      <td>47434.98265</td>\n",
       "    </tr>\n",
       "    <tr>\n",
       "      <th>8</th>\n",
       "      <td>Armenia</td>\n",
       "      <td>0</td>\n",
       "      <td>46.584745</td>\n",
       "      <td>58139.25910</td>\n",
       "      <td>3440.823799</td>\n",
       "      <td>630059.0274</td>\n",
       "      <td>48013.61410</td>\n",
       "    </tr>\n",
       "    <tr>\n",
       "      <th>9</th>\n",
       "      <td>Somalia</td>\n",
       "      <td>1</td>\n",
       "      <td>43.323782</td>\n",
       "      <td>53457.10132</td>\n",
       "      <td>12884.078680</td>\n",
       "      <td>476643.3544</td>\n",
       "      <td>38189.50601</td>\n",
       "    </tr>\n",
       "  </tbody>\n",
       "</table>\n",
       "</div>"
      ],
      "text/plain": [
       "          country  gender        age  annual Salary  credit card debt  \\\n",
       "0        Bulgaria       0  41.851720    62812.09301      11609.380910   \n",
       "1          Belize       0  40.870623    66646.89292       9572.957136   \n",
       "2         Algeria       1  43.152897    53798.55112      11160.355060   \n",
       "3    Cook Islands       1  58.271369    79370.03798      14426.164850   \n",
       "4          Brazil       1  57.313749    59729.15130       5358.712177   \n",
       "5         Liberia       1  56.824893    68499.85162      14179.472440   \n",
       "6           Syria       1  46.607315    39814.52200       5958.460188   \n",
       "7  Czech Republic       1  50.193016    51752.23445      10985.696560   \n",
       "8         Armenia       0  46.584745    58139.25910       3440.823799   \n",
       "9         Somalia       1  43.323782    53457.10132      12884.078680   \n",
       "\n",
       "     net worth  car purchase amount  \n",
       "0  238961.2505          35321.45877  \n",
       "1  530973.9078          45115.52566  \n",
       "2  638467.1773          42925.70921  \n",
       "3  548599.0524          67422.36313  \n",
       "4  560304.0671          55915.46248  \n",
       "5  428485.3604          56611.99784  \n",
       "6  326373.1812          28925.70549  \n",
       "7  629312.4041          47434.98265  \n",
       "8  630059.0274          48013.61410  \n",
       "9  476643.3544          38189.50601  "
      ]
     },
     "execution_count": 11,
     "metadata": {},
     "output_type": "execute_result"
    }
   ],
   "source": [
    "X.head(10)"
   ]
  },
  {
   "cell_type": "code",
   "execution_count": 12,
   "id": "e230e343",
   "metadata": {},
   "outputs": [
    {
     "data": {
      "text/plain": [
       "0    35321.45877\n",
       "1    45115.52566\n",
       "2    42925.70921\n",
       "3    67422.36313\n",
       "4    55915.46248\n",
       "5    56611.99784\n",
       "6    28925.70549\n",
       "7    47434.98265\n",
       "8    48013.61410\n",
       "9    38189.50601\n",
       "Name: car purchase amount, dtype: float64"
      ]
     },
     "execution_count": 12,
     "metadata": {},
     "output_type": "execute_result"
    }
   ],
   "source": [
    "Y.head(10)"
   ]
  },
  {
   "cell_type": "markdown",
   "id": "0b5e8ab5",
   "metadata": {},
   "source": [
    "## 2.) Converting the data into numerical values"
   ]
  },
  {
   "cell_type": "code",
   "execution_count": 13,
   "id": "44556c2f",
   "metadata": {},
   "outputs": [],
   "source": [
    "# importing sklearn libraries \n",
    "\n",
    "from sklearn.preprocessing import OneHotEncoder\n",
    "from sklearn.compose import ColumnTransformer\n",
    "\n",
    "categorical_features = [\"country\", \"gender\"]\n",
    "one_hot = OneHotEncoder()\n",
    "transformer = ColumnTransformer([(\"one_hot\",\n",
    "                                 one_hot,\n",
    "                                 categorical_features)],\n",
    "                               remainder = \"passthrough\")\n",
    "\n",
    "transformed_X = transformer.fit_transform(X)"
   ]
  },
  {
   "cell_type": "markdown",
   "id": "be018d18",
   "metadata": {},
   "source": [
    "### 3.) Fitting the data to the model\n",
    "    \n",
    "    - We are predicting a quantity that's why we use a regression model\n",
    "    - Since the dataset we are working on has less than 100k samples that's why I have used Ridge model from `sklearn.linear_model`."
   ]
  },
  {
   "cell_type": "code",
   "execution_count": 14,
   "id": "1a37b1f6",
   "metadata": {},
   "outputs": [
    {
     "data": {
      "text/plain": [
       "0.9999999999999992"
      ]
     },
     "execution_count": 14,
     "metadata": {},
     "output_type": "execute_result"
    }
   ],
   "source": [
    "# importing the sklearn libraries\n",
    "\n",
    "from sklearn.model_selection import train_test_split\n",
    "from sklearn.linear_model import Ridge\n",
    "\n",
    "# Splitting the data into train and test\n",
    "\n",
    "X_train, X_test, Y_train, Y_test = train_test_split(transformed_X, Y, test_size=0.2)\n",
    "\n",
    "# istantiate and fit the model (on the training set)\n",
    "\n",
    "model = Ridge()\n",
    "model.fit(X_train, Y_train)\n",
    "\n",
    "# checking the score of the model\n",
    "\n",
    "model.score(X_test, Y_test)"
   ]
  },
  {
   "cell_type": "markdown",
   "id": "454a6a74",
   "metadata": {},
   "source": [
    "## 4.) Checking the Mean Absolute error value"
   ]
  },
  {
   "cell_type": "code",
   "execution_count": 15,
   "id": "65c0531b",
   "metadata": {},
   "outputs": [
    {
     "data": {
      "text/plain": [
       "0.00022045015623007203"
      ]
     },
     "execution_count": 15,
     "metadata": {},
     "output_type": "execute_result"
    }
   ],
   "source": [
    "# importing the sklearn libraries\n",
    "\n",
    "from sklearn.metrics import mean_absolute_error\n",
    "\n",
    "# checking the mean absolute error\n",
    "\n",
    "y_preds = model.predict(X_test)\n",
    "mae = mean_absolute_error(Y_test, y_preds)\n",
    "mae"
   ]
  },
  {
   "cell_type": "markdown",
   "id": "eebb8cc3",
   "metadata": {},
   "source": [
    "## 5.) Plotting the Y_test vs y_preds"
   ]
  },
  {
   "cell_type": "code",
   "execution_count": 19,
   "id": "78e3ff16",
   "metadata": {},
   "outputs": [
    {
     "data": {
      "image/png": "[encoded data removed]",
      "text/plain": [
       "<Figure size 640x480 with 1 Axes>"
      ]
     },
     "metadata": {},
     "output_type": "display_data"
    }
   ],
   "source": [
    "#importing matplotlib\n",
    "\n",
    "import matplotlib.pyplot as plt\n",
    "\n",
    "plt.scatter(Y_test, y_preds)\n",
    "plt.show()"
   ]
  },
  {
   "cell_type": "code",
   "execution_count": 20,
   "id": "64415ac4",
   "metadata": {},
   "outputs": [
    {
     "data": {
      "image/png": "[encoded data removed]",
      "text/plain": [
       "<Figure size 640x480 with 1 Axes>"
      ]
     },
     "metadata": {},
     "output_type": "display_data"
    }
   ],
   "source": [
    "plt.plot(Y_test, y_preds)\n",
    "plt.show()"
   ]
  },
  {
   "cell_type": "code",
   "execution_count": null,
   "id": "1d45d833",
   "metadata": {},
   "outputs": [],
   "source": []
  }
 ],
 "metadata": {
  "kernelspec": {
   "display_name": "Python 3 (ipykernel)",
   "language": "python",
   "name": "python3"
  },
  "language_info": {
   "codemirror_mode": {
    "name": "ipython",
    "version": 3
   },
   "file_extension": ".py",
   "mimetype": "text/x-python",
   "name": "python",
   "nbconvert_exporter": "python",
   "pygments_lexer": "ipython3",
   "version": "3.10.12"
  }
 },
 "nbformat": 4,
 "nbformat_minor": 5
}
